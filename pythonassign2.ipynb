{
 "cells": [
  {
   "cell_type": "code",
   "execution_count": 3,
   "id": "963cdfb9-009d-4511-aebf-6e8c17231400",
   "metadata": {},
   "outputs": [
    {
     "name": "stdout",
     "output_type": "stream",
     "text": [
      "welcome to my assignment\n",
      " this function is for introduction \n"
     ]
    }
   ],
   "source": [
    "#Q1. How do you comment code in Python? What are the different types of comments?\n",
    "\"\"\"comments in python are identified with a hash(#) symbol.\n",
    "there are three types of comments.\n",
    "\n",
    "1- single line comments\n",
    "single line comment begin with # symbol and comment a single line\n",
    "#this is single line comment\n",
    "\n",
    "2-multi line comments\n",
    "python does not support multiline comments but there are certain ways using which you can use it.\n",
    "\n",
    "a- by using # in front of everyline\n",
    "#this is how\n",
    "# we can do it\n",
    "\n",
    "b- by using string litrals and not assigning it to any variables , python ignores string litrals when they are not assigned to any variables. \"\"\"\n",
    "\"\"\" this is how it\n",
    "works \"\"\"\n",
    "\n",
    "\"\"\"\n",
    "3-python docstrings\n",
    "python provides an in build feature called docstrings for commenting on moduels,methods,functions,etc.\n",
    "written using three quotation marks\n",
    "can access it using _doc__ attribute\"\"\"\n",
    "def docs():\n",
    "    \n",
    "    ''' this function is for introduction '''\n",
    "print(\"welcome to my assignment\")\n",
    "print(docs.__doc__)"
   ]
  },
  {
   "cell_type": "code",
   "execution_count": 7,
   "id": "44f2ee3a-8c1d-4aec-a4d4-10e9ff79eaec",
   "metadata": {},
   "outputs": [
    {
     "name": "stdout",
     "output_type": "stream",
     "text": [
      "5\n"
     ]
    }
   ],
   "source": [
    "#2Q2. What are variables in Python? How do you declare and assign values to variables?\n",
    "\"\"\" \n",
    "variables are containors for storing data values\n",
    "\"\"\"\n",
    "#this is how a variables is created and\n",
    "#this is how is is assigned \n",
    "l=5\n",
    "print(l)"
   ]
  },
  {
   "cell_type": "code",
   "execution_count": 14,
   "id": "fe1fa44e-d994-407d-b83d-fe14b4e8bf37",
   "metadata": {},
   "outputs": [
    {
     "name": "stdout",
     "output_type": "stream",
     "text": [
      "13\n"
     ]
    }
   ],
   "source": [
    "#3Q3. How do you convert one data type to another in Python?\n",
    "\"\"\" one data type is coverted to another using type casting in pyhton,it is done by using type name as fucntion\"\"\"\n",
    "x=\"5\"\n",
    "y=8\n",
    "print(y+int(x))\n"
   ]
  },
  {
   "cell_type": "code",
   "execution_count": null,
   "id": "c75f93ff-1efd-4e6b-8808-7d2db8f2bb72",
   "metadata": {},
   "outputs": [],
   "source": [
    "#Q4. How do you write and execute a Python script from the command line?\n",
    "'''To write and execute a Python script from the command line, you can follow these steps:\n",
    "\n",
    "1-Open a text editor and create a new file. We can use any text editor of our choice.\n",
    "\n",
    "2-For example, let's say we want to create a simple script that prints \"Prajwal!\":\n",
    "\n",
    "3-Save the file with a .py extension. For example we can save it as name.py.\n",
    "\n",
    "4-Open the command line or terminal on your operating system. \n",
    "\n",
    "5-We will navigate to the directory where we have saved our Python script using the cd command. \n",
    "\n",
    "6-Once we are in the correct directory, we can execute the Python script by typing python followed by the name of your script file.\n",
    "\n",
    "7-Press Enter, and the Python interpreter will execute the script. In our case, it will print \"Prajwal\" to the console.\n",
    "'''"
   ]
  },
  {
   "cell_type": "code",
   "execution_count": 1,
   "id": "a2a54938-c197-473c-ba0f-87e408985c5d",
   "metadata": {},
   "outputs": [
    {
     "data": {
      "text/plain": [
       "[[2, 3]]"
      ]
     },
     "execution_count": 1,
     "metadata": {},
     "output_type": "execute_result"
    }
   ],
   "source": [
    "#Q5. Given a list my_list = [1, 2, 3, 4, 5], write the code to slice the list and obtain the sub-list [2, 3].\n",
    "my_list=[1,2,3,4,5]\n",
    "l=[my_list[1:3:1]]\n",
    "l\n"
   ]
  },
  {
   "cell_type": "code",
   "execution_count": 27,
   "id": "772ee0a2-0905-4ed9-923d-53c9d853119e",
   "metadata": {},
   "outputs": [
    {
     "name": "stdout",
     "output_type": "stream",
     "text": [
      "<class 'complex'>\n"
     ]
    }
   ],
   "source": [
    "#Q6-What is a complex number in mathematics, and how is it represented in Python?\n",
    "''' complex number in maths is the sum of a real number and an imaginary number.'''\n",
    "#this is how it is represented in python\n",
    "c = 3 +6j\n",
    "print(type(c))\n",
    "\n"
   ]
  },
  {
   "cell_type": "code",
   "execution_count": 28,
   "id": "c6cace07-667c-4989-9def-2f13462a8393",
   "metadata": {},
   "outputs": [
    {
     "data": {
      "text/plain": [
       "int"
      ]
     },
     "execution_count": 28,
     "metadata": {},
     "output_type": "execute_result"
    }
   ],
   "source": [
    "#Q7. What is the correct way to declare a variable named age and assign the value 25 to it?\n",
    "\"\"\" we have to declare a variable by following a set of rules , the variable name should be easy to identify\n",
    "\"\"\"\n",
    "age=25\n",
    "type(age)"
   ]
  },
  {
   "cell_type": "code",
   "execution_count": 30,
   "id": "5ae7b5a9-2529-43f7-aad1-fa443aece8cc",
   "metadata": {},
   "outputs": [
    {
     "data": {
      "text/plain": [
       "float"
      ]
     },
     "execution_count": 30,
     "metadata": {},
     "output_type": "execute_result"
    }
   ],
   "source": [
    "#Q8. Declare a variable named price and assign the value 9.99 to it. What data type does this variable belong to?\n",
    "price=9.99\n",
    "type(price)\n",
    "#it belongs to float data type"
   ]
  },
  {
   "cell_type": "code",
   "execution_count": 31,
   "id": "11490d5c-cde4-4a56-ae9f-0dbca1bafc63",
   "metadata": {},
   "outputs": [
    {
     "name": "stdout",
     "output_type": "stream",
     "text": [
      "Prajwal Bisht\n"
     ]
    }
   ],
   "source": [
    "#Q9. Create a variable named name and assign your full name to it as a string. How would you print the value of this variable?\n",
    "name=\"Prajwal Bisht\"\n",
    "print(name)"
   ]
  },
  {
   "cell_type": "code",
   "execution_count": 1,
   "id": "9d557bfa-0bc1-4eff-90e4-31aed3d6f4bd",
   "metadata": {},
   "outputs": [
    {
     "data": {
      "text/plain": [
       "'world'"
      ]
     },
     "execution_count": 1,
     "metadata": {},
     "output_type": "execute_result"
    }
   ],
   "source": [
    "#Q10. Given the string \"Hello, World!\", extract the substring \"World\".\n",
    "start=\"hello world\"\n",
    "start[6::1]\n"
   ]
  },
  {
   "cell_type": "code",
   "execution_count": 2,
   "id": "47f083a6-37f0-482a-b5b5-bba684c20d97",
   "metadata": {},
   "outputs": [
    {
     "name": "stdout",
     "output_type": "stream",
     "text": [
      "i am a student\n"
     ]
    }
   ],
   "source": [
    "#Q11. Create a variable named \"is_student\" and assign it a boolean value indicating whether you are currently a student or not.\n",
    "is_student=True\n",
    "not_student=False\n",
    "if is_student==1 :\n",
    "    print(\"i am a student\")"
   ]
  },
  {
   "cell_type": "code",
   "execution_count": null,
   "id": "a70b8bca-ca75-4d63-96d0-fd390768357f",
   "metadata": {},
   "outputs": [],
   "source": []
  },
  {
   "cell_type": "code",
   "execution_count": null,
   "id": "5dd81a4a-064f-443a-9544-fec75a47d650",
   "metadata": {},
   "outputs": [],
   "source": []
  }
 ],
 "metadata": {
  "kernelspec": {
   "display_name": "Python 3 (ipykernel)",
   "language": "python",
   "name": "python3"
  },
  "language_info": {
   "codemirror_mode": {
    "name": "ipython",
    "version": 3
   },
   "file_extension": ".py",
   "mimetype": "text/x-python",
   "name": "python",
   "nbconvert_exporter": "python",
   "pygments_lexer": "ipython3",
   "version": "3.10.8"
  }
 },
 "nbformat": 4,
 "nbformat_minor": 5
}
