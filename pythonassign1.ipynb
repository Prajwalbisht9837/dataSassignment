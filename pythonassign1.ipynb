{
 "cells": [
  {
   "cell_type": "code",
   "execution_count": 2,
   "id": "ef328f0f-32e4-4cab-91e0-6c1e94230657",
   "metadata": {},
   "outputs": [
    {
     "data": {
      "text/plain": [
       "float"
      ]
     },
     "execution_count": 2,
     "metadata": {},
     "output_type": "execute_result"
    }
   ],
   "source": [
    "'''Q1. Create one variable containing following type of data:\n",
    "\n",
    "(i)\tstring\n",
    "\n",
    "(ii)\tlist\n",
    "\n",
    "(iii)\tfloat\n",
    "\n",
    "(iv)\ttuple '''\n",
    "\n",
    "s=\"this is a string\"\n",
    "l=[1,2,3,\"this is a list\",True]\n",
    "f=2.1\n",
    "t=(1,2,3,\"this is tuple\")\n",
    "type(f)\n",
    "   "
   ]
  },
  {
   "cell_type": "code",
   "execution_count": 8,
   "id": "ffbe96bd-1195-4b35-b749-32a50787ab6f",
   "metadata": {},
   "outputs": [
    {
     "data": {
      "text/plain": [
       "'Q2. Given are some following variables containing data:\\n\\n(i)\\tvar1 = ‘ ‘\\n\\n(ii)\\tvar2 = ‘[ DS , ML , Python]’\\n\\n(iii)\\tvar3 = [ ‘DS’ , ’ML’ , ‘Python’ ]\\n\\n(iv)\\tvar4 = 1.\\n\\n\\nWhat will be the data type of the above given variable.\\n'"
      ]
     },
     "execution_count": 8,
     "metadata": {},
     "output_type": "execute_result"
    }
   ],
   "source": [
    "'''Q2. Given are some following variables containing data:\n",
    "\n",
    "(i)\tvar1 = ‘ ‘\n",
    "\n",
    "(ii)\tvar2 = ‘[ DS , ML , Python]’\n",
    "\n",
    "(iii)\tvar3 = [ ‘DS’ , ’ML’ , ‘Python’ ]\n",
    "\n",
    "(iv)\tvar4 = 1.\n",
    "\n",
    "\n",
    "What will be the data type of the above given variable.\n",
    "'''\n",
    "# var1=' '  ---- STRING\n",
    "#var2='[DS,ML,Python]' ---- STRING\n",
    "#var3=['ds','ml','python'] --- LIST\n",
    "#var4=1. ----FLOAT\n",
    "\n",
    "\n"
   ]
  },
  {
   "cell_type": "code",
   "execution_count": 3,
   "id": "f6ded298-ae85-47a3-98dd-9307d8bd5e07",
   "metadata": {},
   "outputs": [
    {
     "name": "stdout",
     "output_type": "stream",
     "text": [
      "3.3333333333333335\n",
      "2\n",
      "3\n",
      "27\n"
     ]
    }
   ],
   "source": [
    "#Q3. Explain the use of the following operators using an example:\n",
    "\n",
    "'''(i)\t/\n",
    "\n",
    "(ii)\t% \n",
    "\n",
    "(iii)\t//\n",
    "\n",
    "(iv)\t**\n",
    "'''\n",
    "# / operator is used for division\n",
    "print(10/3)\n",
    "# % gives remainder\n",
    "print(17%5)\n",
    "#// Floor Division\n",
    "print(10//3)\n",
    "#** is known as exponential operator\n",
    "print(3**3)"
   ]
  },
  {
   "cell_type": "code",
   "execution_count": 4,
   "id": "151ced24-6cf6-4da1-b7f4-ff08fd55dae9",
   "metadata": {},
   "outputs": [
    {
     "name": "stdout",
     "output_type": "stream",
     "text": [
      "1\n",
      "<class 'int'>\n",
      "2\n",
      "<class 'int'>\n",
      "3\n",
      "<class 'int'>\n",
      "4\n",
      "<class 'int'>\n",
      "str\n",
      "<class 'str'>\n",
      "(5+2j)\n",
      "<class 'complex'>\n",
      "True\n",
      "<class 'bool'>\n",
      "2.1\n",
      "<class 'float'>\n",
      "1.1\n",
      "<class 'float'>\n",
      "[1, 2]\n",
      "<class 'list'>\n"
     ]
    }
   ],
   "source": [
    "#Q4. Create a list of length 10 of your choice containing multiple types of data. Using for loop print the element and its data type.\n",
    "l=[1,2,3,4,\"str\",5+2j,True,2.1,1.1,[1,2]]\n",
    "for i in l :\n",
    "    print(i)\n",
    "    print(type(i))\n",
    "    "
   ]
  },
  {
   "cell_type": "code",
   "execution_count": 1,
   "id": "856eeec7-6aab-4204-b8a8-3add523bf3bd",
   "metadata": {},
   "outputs": [
    {
     "name": "stdout",
     "output_type": "stream",
     "text": [
      "enter number to be divided 4\n",
      "enter divisor 2\n"
     ]
    },
    {
     "name": "stdout",
     "output_type": "stream",
     "text": [
      "2.0\n"
     ]
    }
   ],
   "source": [
    "'''Q5. Using a while loop, verify if the number A is purely divisible by number B and if so then how many\n",
    "times it can be divisible.'''\n",
    "a=int(input(\"enter number to be divided\"))\n",
    "b=int(input(\"enter divisor\"))   \n",
    "while a%b==0:\n",
    "    print(a/b)\n",
    "    break"
   ]
  },
  {
   "cell_type": "code",
   "execution_count": null,
   "id": "8ee88273-3320-433f-8df3-8f78ecd92923",
   "metadata": {},
   "outputs": [],
   "source": [
    "'''Q6. Create a list containing 25 int type data. Using for loop and if-else condition print if the element is\n",
    "divisible by 3 or not. '''\n",
    "number_list = list(range(1, 26))\n",
    "for number in number_list:\n",
    "    if number % 3 == 0:\n",
    "        print(f\"{number} is divisible by 3\")\n",
    "    else:\n",
    "        print(f\"{number} is not divisible by 3\")\n",
    "\n"
   ]
  },
  {
   "cell_type": "code",
   "execution_count": 13,
   "id": "c8b38e0d-414a-4841-a33c-2aef40bfadbb",
   "metadata": {},
   "outputs": [
    {
     "ename": "TypeError",
     "evalue": "'str' object does not support item assignment",
     "output_type": "error",
     "traceback": [
      "\u001b[0;31m---------------------------------------------------------------------------\u001b[0m",
      "\u001b[0;31mTypeError\u001b[0m                                 Traceback (most recent call last)",
      "Cell \u001b[0;32mIn[13], line 13\u001b[0m\n\u001b[1;32m     11\u001b[0m \u001b[38;5;66;03m#string\u001b[39;00m\n\u001b[1;32m     12\u001b[0m name\u001b[38;5;241m=\u001b[39m\u001b[38;5;124m\"\u001b[39m\u001b[38;5;124mprajwal\u001b[39m\u001b[38;5;124m\"\u001b[39m\n\u001b[0;32m---> 13\u001b[0m \u001b[43mname\u001b[49m\u001b[43m[\u001b[49m\u001b[38;5;241;43m3\u001b[39;49m\u001b[43m]\u001b[49m\u001b[38;5;241m=\u001b[39m\u001b[38;5;124m\"\u001b[39m\u001b[38;5;124ms\u001b[39m\u001b[38;5;124m\"\u001b[39m\n\u001b[1;32m     14\u001b[0m \u001b[38;5;66;03m#print(s)\u001b[39;00m\n\u001b[1;32m     15\u001b[0m \u001b[38;5;66;03m#this will not happen because string cannot be updated\u001b[39;00m\n\u001b[1;32m     16\u001b[0m  \n\u001b[1;32m     17\u001b[0m \u001b[38;5;66;03m#tuples\u001b[39;00m\n\u001b[1;32m     18\u001b[0m t\u001b[38;5;241m=\u001b[39m(\u001b[38;5;241m1\u001b[39m,\u001b[38;5;241m2\u001b[39m,\u001b[38;5;241m3\u001b[39m)\n",
      "\u001b[0;31mTypeError\u001b[0m: 'str' object does not support item assignment"
     ]
    }
   ],
   "source": [
    "#. Q7-What do you understand about mutable and immutable data types? Give examples for both showing\n",
    "#this property.\n",
    "'''\n",
    "Mutable and immutable are two fundamental concepts in programming that describe whether a data type can be changed after \n",
    "it is created or not.\n",
    "Immutable Data Types:\n",
    "\n",
    "Immutable data types are those whose values cannot be modified after they are created. Any operation that appears to modify \n",
    "an immutable object actually creates a new object with the modified value. Examples of immutable data type are\n",
    "'''\n",
    "#string\n",
    "name=\"prajwal\"\n",
    "name[3]=\"s\"\n",
    "print(s)\n",
    "#this will not happen because string cannot be updated\n",
    " \n",
    "#tuples\n",
    "t=(1,2,3)\n",
    "t[2]=4\n",
    "print(t)\n",
    "#this will not happen as items in tuples cannot be updated\n",
    "\n",
    "'''\n",
    "Mutable Data Types:\n",
    "Mutable data types are those that can be modified after they are created. Operations on mutable objects can directly\n",
    "change their value without creating a new object. Examples of mutable data types in Python are '''\n",
    "\n",
    "#list\n",
    "l=[1,2,3,4]\n",
    "l[2]='s'\n",
    "print(l)\n",
    "\n",
    "#sets\n",
    "set1 = {1, 2, 3}\n",
    "set1.add(5)\n",
    "print(set1)  \n",
    "  \n",
    "\n"
   ]
  },
  {
   "cell_type": "code",
   "execution_count": null,
   "id": "b3f6b05e-059c-4109-b914-91b233a38002",
   "metadata": {},
   "outputs": [],
   "source": []
  },
  {
   "cell_type": "code",
   "execution_count": null,
   "id": "11135c1f-7f9f-4e8b-84ae-d0eade5ca4ef",
   "metadata": {},
   "outputs": [],
   "source": []
  },
  {
   "cell_type": "code",
   "execution_count": null,
   "id": "5bbc70d9-03a5-4e5a-80ec-22a7094bac6e",
   "metadata": {},
   "outputs": [],
   "source": []
  }
 ],
 "metadata": {
  "kernelspec": {
   "display_name": "Python 3 (ipykernel)",
   "language": "python",
   "name": "python3"
  },
  "language_info": {
   "codemirror_mode": {
    "name": "ipython",
    "version": 3
   },
   "file_extension": ".py",
   "mimetype": "text/x-python",
   "name": "python",
   "nbconvert_exporter": "python",
   "pygments_lexer": "ipython3",
   "version": "3.10.8"
  }
 },
 "nbformat": 4,
 "nbformat_minor": 5
}
